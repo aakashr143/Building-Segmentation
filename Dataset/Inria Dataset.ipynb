{
 "cells": [
  {
   "cell_type": "code",
   "execution_count": 1,
   "id": "37808fb0",
   "metadata": {},
   "outputs": [],
   "source": [
    "import os\n",
    "import matplotlib.pyplot as plt\n",
    "from PIL import Image\n",
    "\n",
    "from torchvision import transforms\n",
    "\n",
    "from constants import IMAGE_SIZE"
   ]
  },
  {
   "cell_type": "code",
   "execution_count": 2,
   "id": "dbc5f09f",
   "metadata": {},
   "outputs": [],
   "source": [
    "PREFIX = \"inria_\"\n",
    "ROOT = \"Inria Dataset\"\n",
    "SAVE_ROOT = \"Master Dataset\"\n",
    "IMAGES = \"Images\"\n",
    "LABELS = \"Labels\""
   ]
  },
  {
   "cell_type": "markdown",
   "id": "7c032d29",
   "metadata": {},
   "source": [
    "Image dimensions -> 5000 x 5000\n",
    "\n",
    "Split (Train / Val / Test) -> 180 / 0 / 0"
   ]
  },
  {
   "cell_type": "code",
   "execution_count": 3,
   "id": "cac65514",
   "metadata": {},
   "outputs": [
    {
     "name": "stdout",
     "output_type": "stream",
     "text": [
      "Masks not selected: 0\n"
     ]
    }
   ],
   "source": [
    "for file_name in os.listdir(os.path.join(ROOT, \"train\", \"images\")):\n",
    "    \n",
    "    img = Image.open(os.path.join(ROOT, \"train\", \"images\", file_name)).convert(\"RGB\")\n",
    "    mask = Image.open(os.path.join(ROOT, \"train\", \"labels\", file_name)).convert(\"RGB\")\n",
    "    \n",
    "    base_file_name = file_name.split(\".\")[0]\n",
    "    \n",
    "    mask_ctr = 0\n",
    "    \n",
    "    for x0 in range(0, 5000, IMAGE_SIZE):\n",
    "        for y0 in range(0, 5000, IMAGE_SIZE):\n",
    "            x1 = x0 + IMAGE_SIZE\n",
    "            y1 = y0 + IMAGE_SIZE\n",
    "\n",
    "            if x1 > 5000 or y1 > 5000:\n",
    "                continue\n",
    "                \n",
    "            img_cropped = img.crop((x0, y0, x1, y1))\n",
    "            mask_cropped = mask.crop((x0, y0, x1, y1))\n",
    "            \n",
    "            m = transforms.ToTensor()(mask_cropped)\n",
    "                \n",
    "            if m.unique().sum() == 0:\n",
    "                mask_ctr += 1\n",
    "                continue\n",
    "\n",
    "            img_cropped.save(os.path.join(SAVE_ROOT, IMAGES, f\"{PREFIX}_{base_file_name}_{x0}_{y0}.png\"), \"PNG\")\n",
    "            mask_cropped.save(os.path.join(SAVE_ROOT, LABELS, f\"{PREFIX}_{base_file_name}_{x0}_{y0}.png\"), \"PNG\")\n",
    "            \n",
    "print(f\"Masks not selected: {mask_ctr}\")"
   ]
  },
  {
   "cell_type": "code",
   "execution_count": null,
   "id": "c8c3c211",
   "metadata": {},
   "outputs": [],
   "source": []
  }
 ],
 "metadata": {
  "kernelspec": {
   "display_name": "Python 3 (ipykernel)",
   "language": "python",
   "name": "python3"
  },
  "language_info": {
   "codemirror_mode": {
    "name": "ipython",
    "version": 3
   },
   "file_extension": ".py",
   "mimetype": "text/x-python",
   "name": "python",
   "nbconvert_exporter": "python",
   "pygments_lexer": "ipython3",
   "version": "3.11.5"
  }
 },
 "nbformat": 4,
 "nbformat_minor": 5
}
