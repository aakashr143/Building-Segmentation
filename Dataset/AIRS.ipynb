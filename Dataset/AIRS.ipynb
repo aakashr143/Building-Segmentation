{
 "cells": [
  {
   "cell_type": "code",
   "execution_count": 1,
   "id": "edf517b2",
   "metadata": {},
   "outputs": [],
   "source": [
    "import os\n",
    "import matplotlib.pyplot as plt\n",
    "from PIL import Image\n",
    "import cv2 as cv\n",
    "from torchvision import transforms\n",
    "import numpy as np\n",
    "from constants import IMAGE_SIZE\n",
    "\n",
    "Image.MAX_IMAGE_PIXELS = None"
   ]
  },
  {
   "cell_type": "code",
   "execution_count": 2,
   "id": "51380d61",
   "metadata": {},
   "outputs": [],
   "source": [
    "PREFIX = \"airs_\"\n",
    "ROOT = \"AIRS\"\n",
    "SAVE_ROOT = \"Master Dataset\"\n",
    "IMAGES = \"Images\"\n",
    "LABELS = \"Labels\""
   ]
  },
  {
   "cell_type": "markdown",
   "id": "2fea479a",
   "metadata": {},
   "source": [
    "Image dimensions -> 10000 x 10000\n",
    "\n",
    "Split (Train / Val / Test) -> 857 / 94 / 95"
   ]
  },
  {
   "cell_type": "code",
   "execution_count": 4,
   "id": "3adcecb0",
   "metadata": {},
   "outputs": [
    {
     "name": "stdout",
     "output_type": "stream",
     "text": [
      "test\n",
      "Items not selected: 4\n",
      "Masks not selected: 21780\n",
      "train\n",
      "Items not selected: 64\n",
      "Masks not selected: 175830\n",
      "val\n",
      "Items not selected: 12\n",
      "Masks not selected: 18582\n"
     ]
    }
   ],
   "source": [
    "img_folder = \"image\"\n",
    "label_folder = \"label\"\n",
    "\n",
    "for folder in os.listdir(ROOT):\n",
    "    if \".txt\" in folder:\n",
    "        continue\n",
    "        \n",
    "    print(folder)\n",
    "    ctr = 0\n",
    "    mask_ctr = 0\n",
    "    \n",
    "    for file_name in os.listdir(os.path.join(ROOT, folder, img_folder)):\n",
    "        \n",
    "        img = Image.open(os.path.join(ROOT, folder, img_folder, file_name)).convert(\"RGB\")\n",
    "        \n",
    "        mask = cv.imread(os.path.join(ROOT, folder, label_folder, file_name), cv.IMREAD_GRAYSCALE) * 255\n",
    "        mask = Image.fromarray(mask.astype('uint8'), 'L')\n",
    "    \n",
    "        base_file_name = file_name.split(\".\")[0]\n",
    "        \n",
    "        if mask.width != 10000 or img.width != 10000 or mask.height != 10000 or img.height != 10000:\n",
    "            continue\n",
    "        \n",
    "        t = transforms.ToTensor()(img.convert(\"L\"))\n",
    "        x = t[t == 0].numel() / 10000**2\n",
    "        \n",
    "        if x > 0.15:\n",
    "            ctr += 1\n",
    "            continue\n",
    "            \n",
    "        for x0 in range(0, 10000, IMAGE_SIZE):\n",
    "            for y0 in range(0, 10000, IMAGE_SIZE):\n",
    "                x1 = x0 + IMAGE_SIZE\n",
    "                y1 = y0 + IMAGE_SIZE\n",
    "                \n",
    "                if x1 > 10000 or y1 > 10000:\n",
    "                    continue\n",
    "                \n",
    "                img_cropped = img.crop((x0, y0, x1, y1))\n",
    "                mask_cropped = mask.crop((x0, y0, x1, y1))\n",
    "                \n",
    "                m = transforms.ToTensor()(mask_cropped)\n",
    "                \n",
    "                if m.unique().sum() == 0:\n",
    "                    mask_ctr += 1\n",
    "                    continue\n",
    "                \n",
    "                img_cropped.save(os.path.join(SAVE_ROOT, IMAGES, f\"{PREFIX}_{base_file_name}_{x0}_{y0}.png\"), \"PNG\")\n",
    "                mask_cropped.save(os.path.join(SAVE_ROOT, LABELS, f\"{PREFIX}_{base_file_name}_{x0}_{y0}.png\"), \"PNG\")\n",
    "                \n",
    "    print(f\"Items not selected: {ctr}\")\n",
    "    print(f\"Masks not selected: {mask_ctr}\")"
   ]
  },
  {
   "cell_type": "code",
   "execution_count": null,
   "id": "7af9acc6",
   "metadata": {},
   "outputs": [],
   "source": []
  }
 ],
 "metadata": {
  "kernelspec": {
   "display_name": "Python 3 (ipykernel)",
   "language": "python",
   "name": "python3"
  },
  "language_info": {
   "codemirror_mode": {
    "name": "ipython",
    "version": 3
   },
   "file_extension": ".py",
   "mimetype": "text/x-python",
   "name": "python",
   "nbconvert_exporter": "python",
   "pygments_lexer": "ipython3",
   "version": "3.11.5"
  }
 },
 "nbformat": 4,
 "nbformat_minor": 5
}
