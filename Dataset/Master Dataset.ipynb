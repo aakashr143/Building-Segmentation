{
 "cells": [
  {
   "cell_type": "code",
   "execution_count": 1,
   "id": "ef4c4268",
   "metadata": {},
   "outputs": [
    {
     "data": {
      "text/plain": [
       "512"
      ]
     },
     "execution_count": 1,
     "metadata": {},
     "output_type": "execute_result"
    }
   ],
   "source": [
    "import os\n",
    "import matplotlib.pyplot as plt\n",
    "import torch\n",
    "from torchvision import transforms\n",
    "from PIL import Image\n",
    "\n",
    "from constants import IMAGE_SIZE\n",
    "\n",
    "os.environ['KMP_DUPLICATE_LIB_OK'] = 'True'\n",
    "\n",
    "IMAGE_SIZE"
   ]
  },
  {
   "cell_type": "code",
   "execution_count": 2,
   "id": "5b65b4c2",
   "metadata": {},
   "outputs": [],
   "source": [
    "ROOT = \"Master Dataset\"\n",
    "IMAGES = \"Images\"\n",
    "LABELS = \"Labels\"\n",
    "\n",
    "INRIA = \"inria_\"\n",
    "MBD = \"mbd_\"\n",
    "AIRS = \"airs_\""
   ]
  },
  {
   "cell_type": "code",
   "execution_count": 3,
   "id": "eea06eac",
   "metadata": {},
   "outputs": [
    {
     "name": "stdout",
     "output_type": "stream",
     "text": [
      "Dataset Size: 137555 images\n"
     ]
    }
   ],
   "source": [
    "ds_size = len(os.listdir(os.path.join(ROOT, IMAGES)))\n",
    "print(f\"Dataset Size: {ds_size} images\")"
   ]
  },
  {
   "cell_type": "code",
   "execution_count": 4,
   "id": "3ee49e3c",
   "metadata": {},
   "outputs": [
    {
     "data": {
      "text/plain": [
       "{'inria_': 12094, 'mbd_': 508, 'airs_': 124953}"
      ]
     },
     "execution_count": 4,
     "metadata": {},
     "output_type": "execute_result"
    }
   ],
   "source": [
    "contributions = {\n",
    "    INRIA: 0,\n",
    "    MBD: 0,\n",
    "    AIRS: 0\n",
    "}\n",
    "\n",
    "for image in os.listdir(os.path.join(ROOT, IMAGES)):\n",
    "    if INRIA in image:\n",
    "        contributions[INRIA] += 1\n",
    "    elif MBD in image:\n",
    "        contributions[MBD] += 1\n",
    "    elif AIRS in image:\n",
    "        contributions[AIRS] += 1\n",
    "    else:\n",
    "        print(image)\n",
    "        \n",
    "contributions"
   ]
  },
  {
   "cell_type": "code",
   "execution_count": null,
   "id": "9eadf6e8",
   "metadata": {},
   "outputs": [],
   "source": [
    "heat_map = torch.zeros((1, IMAGE_SIZE, IMAGE_SIZE))\n",
    "\n",
    "for label in os.listdir(os.path.join(ROOT, LABELS)):\n",
    "    l = Image.open(os.path.join(ROOT, LABELS, label)).convert(\"L\")\n",
    "    t = transforms.ToTensor()(l)\n",
    "    heat_map += t"
   ]
  },
  {
   "cell_type": "code",
   "execution_count": null,
   "id": "35261259",
   "metadata": {},
   "outputs": [],
   "source": [
    "mx = torch.max(heat_map)\n",
    "mn = torch.min(heat_map)\n",
    "mx, mn"
   ]
  },
  {
   "cell_type": "code",
   "execution_count": null,
   "id": "4a7ec5c7",
   "metadata": {},
   "outputs": [],
   "source": [
    "hm = heat_map / mx\n",
    "torch.max(hm), torch.min(hm)"
   ]
  },
  {
   "cell_type": "code",
   "execution_count": null,
   "id": "8d15ed62",
   "metadata": {},
   "outputs": [],
   "source": [
    "plt.imshow(transforms.ToPILImage()(heat_map).convert(\"L\"))\n",
    "plt.axis(\"off\")\n",
    "plt.title(\"Relative Distribution of Building\")\n",
    "plt.show()"
   ]
  }
 ],
 "metadata": {
  "kernelspec": {
   "display_name": "Python 3 (ipykernel)",
   "language": "python",
   "name": "python3"
  },
  "language_info": {
   "codemirror_mode": {
    "name": "ipython",
    "version": 3
   },
   "file_extension": ".py",
   "mimetype": "text/x-python",
   "name": "python",
   "nbconvert_exporter": "python",
   "pygments_lexer": "ipython3",
   "version": "3.11.7"
  }
 },
 "nbformat": 4,
 "nbformat_minor": 5
}
