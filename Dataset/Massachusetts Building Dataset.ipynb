{
 "cells": [
  {
   "cell_type": "code",
   "execution_count": 2,
   "id": "a8787e5b",
   "metadata": {},
   "outputs": [],
   "source": [
    "import os\n",
    "import matplotlib.pyplot as plt\n",
    "from PIL import Image\n",
    "\n",
    "from torchvision import transforms\n",
    "\n",
    "from constants import IMAGE_SIZE"
   ]
  },
  {
   "cell_type": "code",
   "execution_count": 3,
   "id": "fba269a4",
   "metadata": {},
   "outputs": [],
   "source": [
    "PREFIX = \"mbd_\"\n",
    "ROOT = \"Massachusetts Building Dataset\"\n",
    "SAVE_ROOT = \"Master Dataset\"\n",
    "IMAGES = \"Images\"\n",
    "LABELS = \"Labels\""
   ]
  },
  {
   "cell_type": "markdown",
   "id": "5e3cfc79",
   "metadata": {},
   "source": [
    "Image dimensions -> 1500 x 1500\n",
    "\n",
    "Split (Train / Val / Test) -> 137 / 4 / 10\n",
    "\n",
    "Removed all images which have white cover on top"
   ]
  },
  {
   "cell_type": "code",
   "execution_count": 4,
   "id": "0423c9eb",
   "metadata": {},
   "outputs": [
    {
     "name": "stdout",
     "output_type": "stream",
     "text": [
      "test\n",
      "Items not selected: 0\n",
      "train\n",
      "Items not selected: 24\n",
      "val\n",
      "Items not selected: 0\n"
     ]
    }
   ],
   "source": [
    "for folder in os.listdir(ROOT):\n",
    "    if \"_labels\" in folder:\n",
    "        continue\n",
    "        \n",
    "    print(folder)\n",
    "    ctr = 0\n",
    "        \n",
    "    for file_name in os.listdir(os.path.join(ROOT, folder)):\n",
    "        img = Image.open(os.path.join(ROOT, folder, file_name)).convert(\"RGB\")\n",
    "        mask = Image.open(os.path.join(ROOT, f\"{folder}_labels\", file_name[:-1])).convert(\"RGB\")\n",
    "        \n",
    "        base_file_name = file_name.split(\".\")[0]\n",
    "        \n",
    "        t = transforms.ToTensor()(img.convert(\"L\"))\n",
    "        x = t[t == 1].numel() / 1500**2\n",
    "        \n",
    "        if x > 0.15:\n",
    "            ctr += 1\n",
    "            continue\n",
    "        \n",
    "        for x0 in range(0, 1500, IMAGE_SIZE):\n",
    "            for y0 in range(0, 1500, IMAGE_SIZE):\n",
    "                x1 = x0 + IMAGE_SIZE\n",
    "                y1 = y0 + IMAGE_SIZE\n",
    "                \n",
    "                if x1 > 1500 or y1 > 1500:\n",
    "                    continue\n",
    "                \n",
    "                img_cropped = img.crop((x0, y0, x1, y1))\n",
    "                mask_cropped = mask.crop((x0, y0, x1, y1))\n",
    "                \n",
    "                img_cropped.save(os.path.join(SAVE_ROOT, IMAGES, f\"{PREFIX}_{base_file_name}_{x0}_{y0}.png\"), \"PNG\")\n",
    "                mask_cropped.save(os.path.join(SAVE_ROOT, LABELS, f\"{PREFIX}_{base_file_name}_{x0}_{y0}.png\"), \"PNG\")\n",
    "    \n",
    "    print(f\"Items not selected: {ctr}\")"
   ]
  },
  {
   "cell_type": "code",
   "execution_count": 5,
   "id": "5c31c522",
   "metadata": {},
   "outputs": [
    {
     "data": {
      "text/plain": [
       "137202"
      ]
     },
     "execution_count": 5,
     "metadata": {},
     "output_type": "execute_result"
    }
   ],
   "source": [
    "len(os.listdir(os.path.join(SAVE_ROOT, IMAGES)))"
   ]
  },
  {
   "cell_type": "code",
   "execution_count": null,
   "id": "034c1988",
   "metadata": {},
   "outputs": [],
   "source": []
  }
 ],
 "metadata": {
  "kernelspec": {
   "display_name": "Python 3 (ipykernel)",
   "language": "python",
   "name": "python3"
  },
  "language_info": {
   "codemirror_mode": {
    "name": "ipython",
    "version": 3
   },
   "file_extension": ".py",
   "mimetype": "text/x-python",
   "name": "python",
   "nbconvert_exporter": "python",
   "pygments_lexer": "ipython3",
   "version": "3.11.5"
  }
 },
 "nbformat": 4,
 "nbformat_minor": 5
}
